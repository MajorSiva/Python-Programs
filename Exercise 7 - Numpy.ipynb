{
 "cells": [
  {
   "cell_type": "code",
   "execution_count": 6,
   "metadata": {},
   "outputs": [
    {
     "name": "stdout",
     "output_type": "stream",
     "text": [
      "[1 2 3 4 5]\n",
      "<class 'numpy.ndarray'>\n"
     ]
    }
   ],
   "source": [
    "#1. Write a Python code to import NumPy.\n",
    "import numpy as np\n",
    "\n",
    "arr = np.array([1, 2, 3, 4, 5])\n",
    "\n",
    "print(arr)\n",
    "\n",
    "print(type(arr))"
   ]
  },
  {
   "cell_type": "code",
   "execution_count": 9,
   "metadata": {},
   "outputs": [
    {
     "name": "stdout",
     "output_type": "stream",
     "text": [
      "[[ 5  6  7]\n",
      " [ 8  9 10]\n",
      " [11 12 13]]\n"
     ]
    }
   ],
   "source": [
    "#2. Write a Python program to create 3x3 matrix with values ranging from 5 to 13.\n",
    "import numpy as np\n",
    "\n",
    "n=np.arange(5,14).reshape(3,3)\n",
    "print(n)\n"
   ]
  },
  {
   "cell_type": "code",
   "execution_count": 12,
   "metadata": {},
   "outputs": [
    {
     "name": "stdout",
     "output_type": "stream",
     "text": [
      "[ 0.  0.  0.  0.  0.  0. 11.  0.  0.  0.]\n"
     ]
    }
   ],
   "source": [
    "#3. Write a Python program to create a null vector of size 10 and update sixth value to 11.\n",
    "import numpy as np\n",
    "\n",
    "n=np.zeros(10)\n",
    "n[6]=11\n",
    "print(n)\n"
   ]
  },
  {
   "cell_type": "code",
   "execution_count": 14,
   "metadata": {},
   "outputs": [
    {
     "name": "stdout",
     "output_type": "stream",
     "text": [
      "[12 13 14 15 16 17 18 19 20 21 22 23 24 25 26 27 28 29 30 31 32 33 34 35\n",
      " 36 37 38]\n"
     ]
    }
   ],
   "source": [
    "#4. Write a Python program to create a array with values ranging from 12 to 38.\n",
    "import numpy as np\n",
    "\n",
    "n=np.arange(12,39)\n",
    "print(n)"
   ]
  },
  {
   "cell_type": "code",
   "execution_count": 15,
   "metadata": {},
   "outputs": [
    {
     "name": "stdout",
     "output_type": "stream",
     "text": [
      "[4 3 2 1]\n"
     ]
    }
   ],
   "source": [
    "#6. Write a Python program to reverse an array so that first element becomes last.\n",
    "n=np.array([1,2,3,4])\n",
    "reverse= n[::-1]\n",
    "print(reverse)"
   ]
  },
  {
   "cell_type": "code",
   "execution_count": 17,
   "metadata": {},
   "outputs": [
    {
     "name": "stdout",
     "output_type": "stream",
     "text": [
      "[1. 2. 3. 4.]\n"
     ]
    }
   ],
   "source": [
    "#7. Write a Python program to an array converted to a float type.\n",
    "import numpy as np\n",
    "\n",
    "n = np.array([1, 2, 3, 4])\n",
    "print(n.astype(float))\n"
   ]
  },
  {
   "cell_type": "code",
   "execution_count": 20,
   "metadata": {},
   "outputs": [
    {
     "name": "stdout",
     "output_type": "stream",
     "text": [
      "[[1. 1. 1. 1.]\n",
      " [1. 0. 0. 1.]\n",
      " [1. 0. 0. 1.]\n",
      " [1. 1. 1. 1.]]\n"
     ]
    }
   ],
   "source": [
    "#8. Write a Python program to create a 2d array with 1 on the border and 0 inside.\n",
    "import numpy as np\n",
    "\n",
    "n=np.ones((4,4))\n",
    "n[1:-1,1:-1]=0\n",
    "print(n)"
   ]
  },
  {
   "cell_type": "code",
   "execution_count": 23,
   "metadata": {},
   "outputs": [
    {
     "name": "stdout",
     "output_type": "stream",
     "text": [
      "Checkerboard pattern:\n",
      "0 1 0 1 0 1 0 1 \n",
      "1 0 1 0 1 0 1 0 \n",
      "0 1 0 1 0 1 0 1 \n",
      "1 0 1 0 1 0 1 0 \n",
      "0 1 0 1 0 1 0 1 \n",
      "1 0 1 0 1 0 1 0 \n",
      "0 1 0 1 0 1 0 1 \n",
      "1 0 1 0 1 0 1 0 \n",
      "None\n"
     ]
    }
   ],
   "source": [
    "#9. Write a Python program to create a 8x8 matrix and fill it with a checkerboard pattern.\n",
    "import numpy as np\n",
    "\n",
    "def checkerboard(n):\n",
    "\tprint(\"Checkerboard pattern:\")\n",
    "\tx = np.zeros((n, n), dtype=int)\n",
    "\tx[1::2, ::2] = 1\n",
    "\tx[::2, 1::2] = 1\n",
    "\tfor i in range(n):\n",
    "\t\tfor j in range(n):\n",
    "\t\t\tprint(x[i][j], end=\" \")\n",
    "\t\tprint()\n",
    "\n",
    "n = 8\n",
    "print (checkerboard(n))\n"
   ]
  },
  {
   "cell_type": "code",
   "execution_count": 30,
   "metadata": {},
   "outputs": [
    {
     "name": "stdout",
     "output_type": "stream",
     "text": [
      "[1, 2, 3, 4]\n",
      "(5, 6, 7, 8)\n",
      "[1 2 3 4]\n",
      "[5 6 7 8]\n"
     ]
    }
   ],
   "source": [
    "#10. Write a Python program to convert a list and tuple into arrays.\n",
    "import numpy as np\n",
    "\n",
    "lst=[1,2,3,4]\n",
    "print(lst)\n",
    "tup=5,6,7,8\n",
    "print(tup)\n",
    "arr1=np.asarray(lst)\n",
    "arr2=np.asarray(tup)\n",
    "print(arr1)\n",
    "print(arr2)"
   ]
  },
  {
   "cell_type": "code",
   "execution_count": 40,
   "metadata": {},
   "outputs": [
    {
     "name": "stdout",
     "output_type": "stream",
     "text": [
      "[ 2  3  4  5  6  7  8  9 10]\n",
      "[11 12]\n",
      "[ 2  3  4  5  6  7  8  9 10 11 12]\n"
     ]
    }
   ],
   "source": [
    "#11. Write a Python program to append values to the end of an array. \n",
    "import numpy as np\n",
    "\n",
    "n=np.arange(2,11)\n",
    "print(n)\n",
    "m=np.arange(11,13)\n",
    "print(m)\n",
    "print(np.append(n,m))\n"
   ]
  },
  {
   "cell_type": "code",
   "execution_count": 54,
   "metadata": {},
   "outputs": [
    {
     "name": "stdout",
     "output_type": "stream",
     "text": [
      "Empty Array:\n",
      "[[         0 1072693248          0 1073741824]\n",
      " [         0 1074266112          0 1074266112]\n",
      " [         0 1074790400          0 1075052544]]\n",
      "Full Array:\n",
      "[[3 3 3]\n",
      " [3 3 3]\n",
      " [3 3 3]]\n"
     ]
    }
   ],
   "source": [
    "#12. Write a Python program to create an empty and a full array. \n",
    "import numpy as np\n",
    "\n",
    "emp=np.empty((3,4),dtype=int)\n",
    "print(\"Empty Array:\")\n",
    "print(emp)\n",
    "\n",
    "full=np.full((3,3),3,dtype=int)\n",
    "print(\"Full Array:\")\n",
    "print(full)\n"
   ]
  },
  {
   "cell_type": "code",
   "execution_count": 55,
   "metadata": {},
   "outputs": [
    {
     "name": "stdout",
     "output_type": "stream",
     "text": [
      "Fahrenheit: [ 32.     53.6   113.378  93.2   211.838]\n"
     ]
    }
   ],
   "source": [
    "#13. Write a Python program to convert the values of Centigrade degrees into Fahrenheit degrees. Centigrade values are stored into a NumPy array.\n",
    "import numpy as np\n",
    "\n",
    "celsius_temps = [0, 12, 45.21, 34, 99.91]\n",
    "celsius_array = np.array(celsius_temps)\n",
    "fahrenheit_array = (celsius_array * 9/5) + 32\n",
    "\n",
    "print(f\"Fahrenheit: {fahrenheit_array}\")\n"
   ]
  },
  {
   "cell_type": "code",
   "execution_count": 59,
   "metadata": {},
   "outputs": [
    {
     "name": "stdout",
     "output_type": "stream",
     "text": [
      "Complex No: (1+5j)\n",
      "Real part: 1.0\n",
      "Imaginary part: 5.0 \n",
      "\n",
      "Complex No: (2-6j)\n",
      "Real part: 2.0\n",
      "Imaginary part: -6.0 \n",
      "\n",
      "Complex No: (3+7j)\n",
      "Real part: 3.0\n",
      "Imaginary part: 7.0 \n",
      "\n",
      "Complex No: (4-8j)\n",
      "Real part: 4.0\n",
      "Imaginary part: -8.0 \n",
      "\n"
     ]
    }
   ],
   "source": [
    "#14. Write a Python program to find the real and imaginary parts of an array of complex numbers.\n",
    "import numpy as np\n",
    "\n",
    "complex=np.array([1+5j,2-6j,3+7j,4-8j])\n",
    "for i in range(len(complex)):\n",
    "    print(\"Complex No:\",complex[i])\n",
    "    print(\"Real part:\",complex[i].real)\n",
    "    print(\"Imaginary part:\",complex[i].imag,\"\\n\")\n"
   ]
  },
  {
   "cell_type": "code",
   "execution_count": 61,
   "metadata": {},
   "outputs": [
    {
     "name": "stdout",
     "output_type": "stream",
     "text": [
      "True\n"
     ]
    }
   ],
   "source": [
    "#15. Write a Python program to test whether each element of a 1-D array is also present in a second array.\n",
    "import numpy as np\n",
    "\n",
    "arr1=np.array([1,2,3,4])\n",
    "arr2=np.array([1,2,3,4])\n",
    "\n",
    "equal=np.array_equal(arr1,arr2)\n",
    "print(equal)\n",
    "\n"
   ]
  },
  {
   "cell_type": "code",
   "execution_count": 62,
   "metadata": {},
   "outputs": [
    {
     "name": "stdout",
     "output_type": "stream",
     "text": [
      "Common elements are:\n",
      "[3 4]\n"
     ]
    }
   ],
   "source": [
    "#16. Write a Python program to find common values between two arrays.\n",
    "import numpy as np\n",
    "\n",
    "arr1=np.array([1,2,3,4])\n",
    "arr2=np.array([3,4,5,6])\n",
    "common=np.intersect1d(arr1,arr2)\n",
    "print(\"Common elements are:\")\n",
    "print(common)"
   ]
  },
  {
   "cell_type": "code",
   "execution_count": 63,
   "metadata": {},
   "outputs": [
    {
     "name": "stdout",
     "output_type": "stream",
     "text": [
      "Unique element(s) of array:\n",
      "[1 2 3 4]\n"
     ]
    }
   ],
   "source": [
    "#17. Write a Python program to get the unique elements of an array.\n",
    "import numpy as np\n",
    "\n",
    "arr1=np.array([1,2,2,3,3,4])\n",
    "unique=np.unique(arr1)\n",
    "print(\"Unique element(s) of array:\")\n",
    "print(unique)"
   ]
  },
  {
   "cell_type": "code",
   "execution_count": 65,
   "metadata": {},
   "outputs": [
    {
     "name": "stdout",
     "output_type": "stream",
     "text": [
      "User input array: [1. 2. 3. 4.]\n",
      "Evaluation of array : True\n"
     ]
    }
   ],
   "source": [
    "#18. Write a Python program to test if all elements in an array evaluate to True.\n",
    "import numpy as np\n",
    "\n",
    "a = int(input(\"Enter the size of the array: \"))\n",
    "my_list = []\n",
    "for i in range(a):\n",
    "    x = float(input(f\"Enter element {i + 1}: \"))\n",
    "    my_list.append(x)\n",
    "\n",
    "arr1 = np.array(my_list)\n",
    "print(\"User input array:\", arr1)\n",
    "res=np.all(arr1)\n",
    "print(\"Evaluation of array :\",res)\n",
    "\n"
   ]
  },
  {
   "cell_type": "code",
   "execution_count": 66,
   "metadata": {},
   "outputs": [
    {
     "name": "stdout",
     "output_type": "stream",
     "text": [
      "False\n",
      "True\n",
      "True\n",
      "True\n"
     ]
    }
   ],
   "source": [
    "#19. Write a Python program to test whether any array element along a given axis evaluates to True.\n",
    "import numpy as np\n",
    "\n",
    "print(np.any([[False,False],[False,False]])) \n",
    "print(np.any([[True,True],[True,True]]))  \n",
    "\n",
    "print(np.any([10, 20, 0, -50])) \n",
    "print(np.any([10, 20, -50])) "
   ]
  },
  {
   "cell_type": "code",
   "execution_count": 72,
   "metadata": {},
   "outputs": [
    {
     "name": "stdout",
     "output_type": "stream",
     "text": [
      "[[1 1 2 2 3 3 4 4]\n",
      " [5 5 6 6 7 7 0 0]]\n"
     ]
    }
   ],
   "source": [
    "#20. Write a Python program to repeat elements of an array.\n",
    "import numpy as np\n",
    "\n",
    "arr1=np.array([[1,2,3,4]\n",
    "               ,[5,6,7,0]])\n",
    "rep=np.repeat(arr1,2,axis=1)\n",
    "print(rep)"
   ]
  },
  {
   "cell_type": "code",
   "execution_count": 74,
   "metadata": {},
   "outputs": [
    {
     "name": "stdout",
     "output_type": "stream",
     "text": [
      "Index of maximum value: 4\n",
      "Index of minimum value: 0\n"
     ]
    }
   ],
   "source": [
    "#21. Write a Python program to find the indices of the maximum and minimum values along the given axis of an array.\n",
    "import numpy as np\n",
    "\n",
    "arr1=np.array([1,2,3,4,5])\n",
    "\n",
    "max_index=np.argmax(arr1)\n",
    "print(\"Index of maximum value:\",max_index)\n",
    "\n",
    "min_index=np.argmin(arr1)\n",
    "print(\"Index of minimum value:\",min_index)"
   ]
  },
  {
   "cell_type": "code",
   "execution_count": 78,
   "metadata": {},
   "outputs": [
    {
     "name": "stdout",
     "output_type": "stream",
     "text": [
      "True\n"
     ]
    }
   ],
   "source": [
    "#22. Write a Python program compare two arrays using numpy.\n",
    "import numpy as np\n",
    "\n",
    "arr1=np.array([[1,2],[3,4]])\n",
    "arr2=np.array([[1,2],[3,4]])\n",
    "compare=arr1==arr2\n",
    "res=compare.all()\n",
    "print(res)"
   ]
  },
  {
   "cell_type": "code",
   "execution_count": 79,
   "metadata": {},
   "outputs": [],
   "source": [
    "#23. Write a Python program to save a NumPy array to a text file.\n",
    "import numpy as np\n",
    "\n",
    "arr1 = np.array(np.random.randint(1, 100, 7))\n",
    "\n",
    "with open('readme.txt', 'w') as f:\n",
    "    f.write(' '.join(map(str, arr1)))\n"
   ]
  },
  {
   "cell_type": "code",
   "execution_count": 80,
   "metadata": {},
   "outputs": [
    {
     "name": "stdout",
     "output_type": "stream",
     "text": [
      "Original Array:\n",
      " [[1 2 3 4]\n",
      " [5 6 7 8]]\n",
      "Contiguous Flattened Array: [1 2 3 4 5 6 7 8]\n"
     ]
    }
   ],
   "source": [
    "#24. Write a Python program to create a contiguous flattened array.\n",
    "import numpy as np\n",
    "\n",
    "arr1=np.array([[1,2,3,4],[5,6,7,8]])\n",
    "print(\"Original Array:\\n\",arr1)\n",
    "\n",
    "con_flat_arr=np.ravel(arr1)\n",
    "print(\"Contiguous Flattened Array:\",con_flat_arr)"
   ]
  },
  {
   "cell_type": "code",
   "execution_count": 88,
   "metadata": {},
   "outputs": [
    {
     "name": "stdout",
     "output_type": "stream",
     "text": [
      "Original Array:\n",
      "[[ 2  3  4]\n",
      " [ 5  6  7]\n",
      " [ 8  9 10]]\n",
      "Sum of array:\n",
      "[15 18 21]\n",
      "\n",
      "Minumum value:\n",
      "[2 5 8]\n",
      "\n",
      "Maximum value:\n",
      "[ 4  7 10]\n"
     ]
    }
   ],
   "source": [
    "#25. Write a program to perform addition,minimum and maximum values from a 3D array.\n",
    "import numpy as np\n",
    "\n",
    "arr1=np.arange(2,11).reshape(3,3)\n",
    "sum= np.sum(arr1,axis=0)\n",
    "minimum= np.min(arr1,axis=1)\n",
    "maximum= np.max(arr1,axis=1)\n",
    "\n",
    "print(\"Original Array:\")\n",
    "print(arr1)\n",
    "print(\"Sum of array:\")\n",
    "print(sum)\n",
    "print(\"\\nMinumum value:\")\n",
    "print(minimum)\n",
    "print(\"\\nMaximum value:\")\n",
    "print(maximum)\n"
   ]
  }
 ],
 "metadata": {
  "kernelspec": {
   "display_name": "Python 3",
   "language": "python",
   "name": "python3"
  },
  "language_info": {
   "codemirror_mode": {
    "name": "ipython",
    "version": 3
   },
   "file_extension": ".py",
   "mimetype": "text/x-python",
   "name": "python",
   "nbconvert_exporter": "python",
   "pygments_lexer": "ipython3",
   "version": "3.12.3"
  }
 },
 "nbformat": 4,
 "nbformat_minor": 2
}
