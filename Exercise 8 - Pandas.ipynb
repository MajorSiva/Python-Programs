{
 "cells": [
  {
   "cell_type": "code",
   "execution_count": 2,
   "metadata": {},
   "outputs": [],
   "source": [
    "#1. a) Import pandas under the name pd. \n",
    "import pandas as pd\n"
   ]
  },
  {
   "cell_type": "code",
   "execution_count": 91,
   "metadata": {},
   "outputs": [
    {
     "name": "stdout",
     "output_type": "stream",
     "text": [
      "2.2.2\n"
     ]
    }
   ],
   "source": [
    "#1.  b) Print the version of pandas that has been imported. \n",
    "import pandas as pd\n",
    "print(pd.__version__)"
   ]
  },
  {
   "cell_type": "code",
   "execution_count": null,
   "metadata": {},
   "outputs": [],
   "source": [
    "#1. c) Print out all the version information of the libraries that are required by the pandas library.\n",
    "import pandas as pd\n",
    "pd.show_versions()\n"
   ]
  },
  {
   "cell_type": "code",
   "execution_count": 26,
   "metadata": {},
   "outputs": [
    {
     "data": {
      "text/html": [
       "<div>\n",
       "<style scoped>\n",
       "    .dataframe tbody tr th:only-of-type {\n",
       "        vertical-align: middle;\n",
       "    }\n",
       "\n",
       "    .dataframe tbody tr th {\n",
       "        vertical-align: top;\n",
       "    }\n",
       "\n",
       "    .dataframe thead th {\n",
       "        text-align: right;\n",
       "    }\n",
       "</style>\n",
       "<table border=\"1\" class=\"dataframe\">\n",
       "  <thead>\n",
       "    <tr style=\"text-align: right;\">\n",
       "      <th></th>\n",
       "      <th>animal</th>\n",
       "      <th>age</th>\n",
       "      <th>visits</th>\n",
       "      <th>priority</th>\n",
       "    </tr>\n",
       "  </thead>\n",
       "  <tbody>\n",
       "    <tr>\n",
       "      <th>0</th>\n",
       "      <td>cat</td>\n",
       "      <td>2.5</td>\n",
       "      <td>1</td>\n",
       "      <td>yes</td>\n",
       "    </tr>\n",
       "    <tr>\n",
       "      <th>1</th>\n",
       "      <td>cat</td>\n",
       "      <td>3.0</td>\n",
       "      <td>3</td>\n",
       "      <td>yes</td>\n",
       "    </tr>\n",
       "    <tr>\n",
       "      <th>2</th>\n",
       "      <td>snake</td>\n",
       "      <td>0.5</td>\n",
       "      <td>2</td>\n",
       "      <td>no</td>\n",
       "    </tr>\n",
       "    <tr>\n",
       "      <th>3</th>\n",
       "      <td>dog</td>\n",
       "      <td>NaN</td>\n",
       "      <td>3</td>\n",
       "      <td>yes</td>\n",
       "    </tr>\n",
       "    <tr>\n",
       "      <th>4</th>\n",
       "      <td>dog</td>\n",
       "      <td>5.0</td>\n",
       "      <td>2</td>\n",
       "      <td>no</td>\n",
       "    </tr>\n",
       "    <tr>\n",
       "      <th>5</th>\n",
       "      <td>cat</td>\n",
       "      <td>2.0</td>\n",
       "      <td>3</td>\n",
       "      <td>no</td>\n",
       "    </tr>\n",
       "    <tr>\n",
       "      <th>6</th>\n",
       "      <td>snake</td>\n",
       "      <td>4.5</td>\n",
       "      <td>1</td>\n",
       "      <td>no</td>\n",
       "    </tr>\n",
       "    <tr>\n",
       "      <th>7</th>\n",
       "      <td>cat</td>\n",
       "      <td>NaN</td>\n",
       "      <td>1</td>\n",
       "      <td>yes</td>\n",
       "    </tr>\n",
       "    <tr>\n",
       "      <th>8</th>\n",
       "      <td>dog</td>\n",
       "      <td>7.0</td>\n",
       "      <td>2</td>\n",
       "      <td>no</td>\n",
       "    </tr>\n",
       "    <tr>\n",
       "      <th>9</th>\n",
       "      <td>dog</td>\n",
       "      <td>3.0</td>\n",
       "      <td>1</td>\n",
       "      <td>no</td>\n",
       "    </tr>\n",
       "  </tbody>\n",
       "</table>\n",
       "</div>"
      ],
      "text/plain": [
       "  animal  age  visits priority\n",
       "0    cat  2.5       1      yes\n",
       "1    cat  3.0       3      yes\n",
       "2  snake  0.5       2       no\n",
       "3    dog  NaN       3      yes\n",
       "4    dog  5.0       2       no\n",
       "5    cat  2.0       3       no\n",
       "6  snake  4.5       1       no\n",
       "7    cat  NaN       1      yes\n",
       "8    dog  7.0       2       no\n",
       "9    dog  3.0       1       no"
      ]
     },
     "execution_count": 26,
     "metadata": {},
     "output_type": "execute_result"
    }
   ],
   "source": [
    "#2. a)\n",
    "from cProfile import label\n",
    "import pandas as pd\n",
    "import numpy as np\n",
    "\n",
    "data={'animal':['cat','cat','snake','dog','dog','cat','snake','cat','dog','dog'],\n",
    "      'age':[2.5,3,0.5,np.nan,5,2,4.5,np.nan,7,3],\n",
    "      'visits':[1,3,2,3,2,3,1,1,2,1],\n",
    "      'priority':['yes','yes','no','yes','no','no','no','yes','no','no']}\n",
    "\n",
    "df= pd.DataFrame(data)\n",
    "df"
   ]
  },
  {
   "cell_type": "code",
   "execution_count": null,
   "metadata": {},
   "outputs": [],
   "source": [
    "#b\n",
    "df.info()"
   ]
  },
  {
   "cell_type": "code",
   "execution_count": null,
   "metadata": {},
   "outputs": [],
   "source": [
    "#c\n",
    "print(df.head(3))"
   ]
  },
  {
   "cell_type": "code",
   "execution_count": null,
   "metadata": {},
   "outputs": [],
   "source": [
    "#d\n",
    "print(df[['animal','age']])"
   ]
  },
  {
   "cell_type": "code",
   "execution_count": null,
   "metadata": {},
   "outputs": [],
   "source": [
    "#e\n",
    "print(df.loc[['d','e','i'],['animal','age']])"
   ]
  },
  {
   "cell_type": "code",
   "execution_count": null,
   "metadata": {},
   "outputs": [],
   "source": [
    "#f\n",
    "print(df[df['visits']>3])"
   ]
  },
  {
   "cell_type": "code",
   "execution_count": null,
   "metadata": {},
   "outputs": [],
   "source": [
    "#g\n",
    "print(df[df['age'].isna()])"
   ]
  },
  {
   "cell_type": "code",
   "execution_count": null,
   "metadata": {},
   "outputs": [],
   "source": [
    "#h\n",
    "print(df[(df['age']>=2)&(df['age']<=4)])"
   ]
  },
  {
   "cell_type": "code",
   "execution_count": null,
   "metadata": {},
   "outputs": [],
   "source": [
    "#i\n",
    "ttl_visits=df['visits'].sum()\n",
    "print(ttl_visits)"
   ]
  },
  {
   "cell_type": "code",
   "execution_count": null,
   "metadata": {},
   "outputs": [],
   "source": [
    "#j\n",
    "df.loc['k']=['dog',5.5,2,'yes']\n",
    "print(df)\n",
    "#print(df.loc['k'])\n",
    "df=df.drop('k')\n",
    "print(\"\\n\")\n",
    "print(df)"
   ]
  },
  {
   "cell_type": "code",
   "execution_count": null,
   "metadata": {},
   "outputs": [],
   "source": [
    "#k\n",
    "df['priority']=df['priority'].map({'yes':True,'no':False})\n",
    "print(df)\n"
   ]
  },
  {
   "cell_type": "code",
   "execution_count": 10,
   "metadata": {},
   "outputs": [
    {
     "name": "stdout",
     "output_type": "stream",
     "text": [
      "      A\n",
      "0   0.0\n",
      "1   0.0\n",
      "2   0.0\n",
      "3   0.0\n",
      "4   0.0\n",
      "5   0.0\n",
      "6   0.0\n",
      "7   0.0\n",
      "8   0.0\n",
      "9   0.0\n",
      "10  0.0\n"
     ]
    }
   ],
   "source": [
    "#3\n",
    "import pandas as pd\n",
    "\n",
    "df = pd.DataFrame({'A': [1, 2, 2, 3, 4, 5, 5, 5, 6, 7, 7]})\n",
    "row_means = df.mean(axis=1)\n",
    "normal_df = df.sub(row_means, axis=0)\n",
    "\n",
    "print(normal_df)\n"
   ]
  },
  {
   "cell_type": "code",
   "execution_count": 8,
   "metadata": {},
   "outputs": [
    {
     "name": "stdout",
     "output_type": "stream",
     "text": [
      "DatetimeIndex(['2015-01-01', '2015-01-02', '2015-01-05', '2015-01-06',\n",
      "               '2015-01-07', '2015-01-08', '2015-01-09', '2015-01-12',\n",
      "               '2015-01-13', '2015-01-14',\n",
      "               ...\n",
      "               '2015-12-18', '2015-12-21', '2015-12-22', '2015-12-23',\n",
      "               '2015-12-24', '2015-12-25', '2015-12-28', '2015-12-29',\n",
      "               '2015-12-30', '2015-12-31'],\n",
      "              dtype='datetime64[ns]', length=261, freq='B')\n",
      "2015-01-01    0.127278\n",
      "2015-01-02    0.182377\n",
      "2015-01-05    0.953321\n",
      "2015-01-06    0.480625\n",
      "2015-01-07    0.242781\n",
      "                ...   \n",
      "2015-12-25    0.483280\n",
      "2015-12-28    0.469731\n",
      "2015-12-29    0.388171\n",
      "2015-12-30    0.992897\n",
      "2015-12-31    0.633775\n",
      "Freq: B, Length: 261, dtype: float64\n",
      "Sum of the values in s for every Wednesday: 26.325484991736438\n"
     ]
    }
   ],
   "source": [
    "#4 a\n",
    "import pandas as pd\n",
    "import numpy as np\n",
    "\n",
    "business_days_2015 = pd.date_range(start='2015-01-01', end='2015-12-31', freq='B')\n",
    "s = pd.Series(np.random.rand(len(business_days_2015)), index=business_days_2015)\n",
    "print(business_days_2015)\n",
    "print(s)\n",
    "wed_sum=s[s.index.weekday==2].sum()\n",
    "print(\"Sum of the values in s for every Wednesday:\",wed_sum)\n"
   ]
  },
  {
   "cell_type": "code",
   "execution_count": 15,
   "metadata": {},
   "outputs": [
    {
     "name": "stdout",
     "output_type": "stream",
     "text": [
      "Sum of the values in s for every Wednesday: 26.325484991736438\n"
     ]
    }
   ],
   "source": [
    "#b\n",
    "wed_sum=s[s.index.weekday==2].sum()\n",
    "print(\"Sum of the values in s for every Wednesday:\",wed_sum)\n"
   ]
  },
  {
   "cell_type": "code",
   "execution_count": 3,
   "metadata": {},
   "outputs": [
    {
     "name": "stdout",
     "output_type": "stream",
     "text": [
      "Mean values for each calendar month:\n",
      " 2015-01-31    0.464018\n",
      "2015-02-28    0.541115\n",
      "2015-03-31    0.388825\n",
      "2015-04-30    0.495861\n",
      "2015-05-31    0.489294\n",
      "2015-06-30    0.456276\n",
      "2015-07-31    0.522086\n",
      "2015-08-31    0.540702\n",
      "2015-09-30    0.522451\n",
      "2015-10-31    0.500828\n",
      "2015-11-30    0.586055\n",
      "2015-12-31    0.548979\n",
      "Freq: ME, dtype: float64\n"
     ]
    },
    {
     "name": "stderr",
     "output_type": "stream",
     "text": [
      "C:\\Users\\SivaPrakashSelvaraj\\AppData\\Local\\Temp\\ipykernel_4956\\1650744987.py:2: FutureWarning: 'M' is deprecated and will be removed in a future version, please use 'ME' instead.\n",
      "  monthly_means=s.resample('M').mean()\n"
     ]
    }
   ],
   "source": [
    "#c\n",
    "monthly_means=s.resample('M').mean()\n",
    "print(\"Mean values for each calendar month:\\n\",monthly_means)"
   ]
  },
  {
   "cell_type": "code",
   "execution_count": 12,
   "metadata": {},
   "outputs": [
    {
     "name": "stdout",
     "output_type": "stream",
     "text": [
      "DatetimeIndex(['2015-01-15', '2015-02-19', '2015-03-19', '2015-04-16',\n",
      "               '2015-05-21', '2015-06-18', '2015-07-16', '2015-08-20',\n",
      "               '2015-09-17', '2015-10-15', '2015-11-19', '2015-12-17',\n",
      "               '2016-01-21', '2016-02-18', '2016-03-17', '2016-04-21',\n",
      "               '2016-05-19', '2016-06-16', '2016-07-21', '2016-08-18',\n",
      "               '2016-09-15', '2016-10-20', '2016-11-17', '2016-12-15'],\n",
      "              dtype='datetime64[ns]', freq='WOM-3THU')\n"
     ]
    }
   ],
   "source": [
    "#d\n",
    "date_index = pd.date_range('2015-01-01', '2016-12-31', freq='WOM-3THU')\n",
    "print(date_index)"
   ]
  },
  {
   "cell_type": "code",
   "execution_count": 25,
   "metadata": {},
   "outputs": [
    {
     "name": "stdout",
     "output_type": "stream",
     "text": [
      "            From_To  FlightNumber  RecentDelays              Airline\n",
      "0      LoNDon_paris         10045      [23, 47]               KLM(!)\n",
      "1      MAdrid_miLAN         10055            []    <Air France> (12)\n",
      "2  londON_StockhOlm         10065  [24, 43, 87]  (British Airways. )\n",
      "3    Budapest_PaRis         10075          [13]       12. Air France\n",
      "4   Brussels_londOn         10085      [67, 32]          \"Swiss Air\"\n"
     ]
    }
   ],
   "source": [
    "#5 #a\n",
    "df = pd.DataFrame({'From_To': ['LoNDon_paris', 'MAdrid_miLAN', 'londON_StockhOlm', \n",
    "   'Budapest_PaRis', 'Brussels_londOn'], \n",
    "   'FlightNumber': [10045, np.nan, 10065, np.nan, 10085], \n",
    "   'RecentDelays': [[23, 47], [], [24, 43, 87], [13], [67, 32]], \n",
    "   'Airline': ['KLM(!)', '<Air France> (12)', '(British Airways. )', \n",
    "   '12. Air France', '\"Swiss Air\"']}) \n",
    "\n",
    "df['FlightNumber']=df['FlightNumber'].interpolate().astype(int)\n",
    "print(df)\n"
   ]
  },
  {
   "cell_type": "code",
   "execution_count": 37,
   "metadata": {},
   "outputs": [
    {
     "name": "stdout",
     "output_type": "stream",
     "text": [
      "DataFrame after splitting 'From_to' column:\n",
      "    FlightNumber  RecentDelays              Airline         0          1\n",
      "0         10045      [23, 47]               KLM(!)    LoNDon      paris\n",
      "1         10055            []    <Air France> (12)    MAdrid      miLAN\n",
      "2         10065  [24, 43, 87]  (British Airways. )    londON  StockhOlm\n",
      "3         10075          [13]       12. Air France  Budapest      PaRis\n",
      "4         10085      [67, 32]          \"Swiss Air\"  Brussels     londOn\n"
     ]
    },
    {
     "name": "stderr",
     "output_type": "stream",
     "text": [
      "C:\\Users\\SivaPrakashSelvaraj\\AppData\\Local\\Temp\\ipykernel_4956\\2093855539.py:3: UserWarning: Pandas doesn't allow columns to be created via a new attribute name - see https://pandas.pydata.org/pandas-docs/stable/indexing.html#attribute-access\n",
      "  temp_df.colums=['From','To']\n"
     ]
    }
   ],
   "source": [
    "#b\n",
    "temp_df=df['From_To'].str.split('_',expand=True)\n",
    "temp_df.colums=['From','To']\n",
    "df=df.drop(columns=['From_To']).join(temp_df)\n",
    "print(\"DataFrame after splitting 'From_to' column:\\n\",df)\n"
   ]
  },
  {
   "cell_type": "code",
   "execution_count": 38,
   "metadata": {},
   "outputs": [
    {
     "name": "stdout",
     "output_type": "stream",
     "text": [
      "DataFrame after cleaning Airline column:\n",
      "    FlightNumber  RecentDelays          Airline         0          1\n",
      "0         10045      [23, 47]              KLM    LoNDon      paris\n",
      "1         10055            []       Air France    MAdrid      miLAN\n",
      "2         10065  [24, 43, 87]  British Airways    londON  StockhOlm\n",
      "3         10075          [13]       Air France  Budapest      PaRis\n",
      "4         10085      [67, 32]        Swiss Air  Brussels     londOn\n"
     ]
    }
   ],
   "source": [
    "#c\n",
    "df['Airline']=df['Airline'].str.extract(r'([A-Za-z\\s]+)', expand=False).str.strip()\n",
    "print(\"DataFrame after cleaning Airline column:\\n\",df)\n"
   ]
  },
  {
   "cell_type": "code",
   "execution_count": 73,
   "metadata": {},
   "outputs": [
    {
     "name": "stdout",
     "output_type": "stream",
     "text": [
      "letters  numbers\n",
      "A        0          2.691976\n",
      "         1         -0.713221\n",
      "         2          0.234851\n",
      "         3         -1.415409\n",
      "         4          0.580614\n",
      "         5          0.938913\n",
      "         6          0.272063\n",
      "         7          0.775195\n",
      "         8         -0.655773\n",
      "         9         -1.221108\n",
      "B        0          0.259803\n",
      "         1         -0.885682\n",
      "         2         -0.691509\n",
      "         3         -0.502881\n",
      "         4         -0.619490\n",
      "         5          0.698216\n",
      "         6         -2.748936\n",
      "         7          0.849444\n",
      "         8         -0.340947\n",
      "         9          0.397533\n",
      "C        0         -1.928431\n",
      "         1          1.534614\n",
      "         2          0.823108\n",
      "         3          0.283879\n",
      "         4          1.409252\n",
      "         5          0.572819\n",
      "         6         -0.983354\n",
      "         7         -0.551824\n",
      "         8          0.433578\n",
      "         9         -0.362012\n",
      "dtype: float64\n"
     ]
    }
   ],
   "source": [
    "#6\n",
    "letters=['A','B','C']\n",
    "numbers=list(range(10))\n",
    "index=pd.MultiIndex.from_product([letters,numbers],names=['letters','numbers'])\n",
    "s=pd.Series(np.random.randn(len(index)),index=index)\n",
    "print(s)"
   ]
  },
  {
   "cell_type": "code",
   "execution_count": 48,
   "metadata": {},
   "outputs": [
    {
     "name": "stdout",
     "output_type": "stream",
     "text": [
      "Selected Labels 1,3 and 6 from second level:\n",
      " letters  numbers\n",
      "A        1          1.341451\n",
      "         3          0.612201\n",
      "         6          1.400794\n",
      "B        1          0.345810\n",
      "         3          0.386341\n",
      "         6          1.311460\n",
      "C        1         -4.221497\n",
      "         3         -0.300064\n",
      "         6         -0.979240\n",
      "dtype: float64\n"
     ]
    }
   ],
   "source": [
    "#a\n",
    "s_labels=s.loc[(slice(None),[1,3,6])]\n",
    "print(\"Selected Labels 1,3 and 6 from second level:\\n\",s_labels)\n"
   ]
  },
  {
   "cell_type": "code",
   "execution_count": 49,
   "metadata": {},
   "outputs": [
    {
     "name": "stdout",
     "output_type": "stream",
     "text": [
      "Sliced series:\n",
      " letters  numbers\n",
      "A        5         -0.628525\n",
      "B        5          0.497288\n",
      "dtype: float64\n"
     ]
    }
   ],
   "source": [
    "#b\n",
    "sliced_series=s.loc[:'B',5]\n",
    "print(\"Sliced series:\\n\",sliced_series)"
   ]
  },
  {
   "cell_type": "code",
   "execution_count": 52,
   "metadata": {},
   "outputs": [
    {
     "name": "stdout",
     "output_type": "stream",
     "text": [
      "Sum of values for each label in first level:\n",
      " letters\n",
      "A    -0.116495\n",
      "B     0.778949\n",
      "C   -10.373692\n",
      "dtype: float64\n"
     ]
    }
   ],
   "source": [
    "#c\n",
    "sum_by_level1=s.groupby('letters').sum()\n",
    "print(\"Sum of values for each label in first level:\\n\",sum_by_level1)"
   ]
  },
  {
   "cell_type": "code",
   "execution_count": 55,
   "metadata": {},
   "outputs": [
    {
     "name": "stdout",
     "output_type": "stream",
     "text": [
      "list: ['1', '2', '3', '4']\n",
      "List in pandas Series:\n",
      " 0    1\n",
      "1    2\n",
      "2    3\n",
      "3    4\n",
      "dtype: object\n",
      "tuple: ('5', '6', '7', '8')\n",
      "Tuple in pandas Series:\n",
      " 0    5\n",
      "1    6\n",
      "2    7\n",
      "3    8\n",
      "dtype: object\n",
      "dictionary: {'name': 'Siva', 'age': 21, 'City': 'Chennai'}\n",
      "Dictionary in pandas Series:\n",
      " name       Siva\n",
      "age          21\n",
      "City    Chennai\n",
      "dtype: object\n"
     ]
    }
   ],
   "source": [
    "#7\n",
    "lst=list(input(\"Enter list elements:\"))\n",
    "tup=tuple(input(\"Enter tuple elements:\"))\n",
    "dic={'name':'Siva','age':21,'City':'Chennai'}\n",
    "\n",
    "x=pd.Series(lst)\n",
    "y=pd.Series(tup)\n",
    "z=pd.Series(dic)\n",
    "print(\"list:\",lst)\n",
    "print(\"List in pandas Series:\\n\",x)\n",
    "print(\"tuple:\",tup)\n",
    "print(\"Tuple in pandas Series:\\n\",y)\n",
    "print(\"dictionary:\",dic)\n",
    "print(\"Dictionary in pandas Series:\\n\",z)"
   ]
  },
  {
   "cell_type": "code",
   "execution_count": 62,
   "metadata": {},
   "outputs": [
    {
     "data": {
      "text/html": [
       "<div>\n",
       "<style scoped>\n",
       "    .dataframe tbody tr th:only-of-type {\n",
       "        vertical-align: middle;\n",
       "    }\n",
       "\n",
       "    .dataframe tbody tr th {\n",
       "        vertical-align: top;\n",
       "    }\n",
       "\n",
       "    .dataframe thead th {\n",
       "        text-align: right;\n",
       "    }\n",
       "</style>\n",
       "<table border=\"1\" class=\"dataframe\">\n",
       "  <thead>\n",
       "    <tr style=\"text-align: right;\">\n",
       "      <th></th>\n",
       "      <th>Name</th>\n",
       "      <th>Age</th>\n",
       "      <th>Location</th>\n",
       "    </tr>\n",
       "  </thead>\n",
       "  <tbody>\n",
       "    <tr>\n",
       "      <th>0</th>\n",
       "      <td>Siva</td>\n",
       "      <td>21</td>\n",
       "      <td>Chennai</td>\n",
       "    </tr>\n",
       "    <tr>\n",
       "      <th>1</th>\n",
       "      <td>Saranya</td>\n",
       "      <td>19</td>\n",
       "      <td>Chennai</td>\n",
       "    </tr>\n",
       "    <tr>\n",
       "      <th>2</th>\n",
       "      <td>Sri</td>\n",
       "      <td>21</td>\n",
       "      <td>Chennai</td>\n",
       "    </tr>\n",
       "  </tbody>\n",
       "</table>\n",
       "</div>"
      ],
      "text/plain": [
       "      Name  Age Location\n",
       "0     Siva   21  Chennai\n",
       "1  Saranya   19  Chennai\n",
       "2      Sri   21  Chennai"
      ]
     },
     "execution_count": 62,
     "metadata": {},
     "output_type": "execute_result"
    }
   ],
   "source": [
    "#8\n",
    "def create_series(series_list):\n",
    "    series_list=pd.Series(series_list)\n",
    "    return series_list\n",
    "\n",
    "name=create_series(['Siva','Saranya','Sri'])\n",
    "age=create_series([21,19,21])\n",
    "location=create_series(['Chennai','Chennai','Chennai'])\n",
    "\n",
    "x={'Name':name,\n",
    "    'Age':age,\n",
    "    'Location':location}\n",
    "\n",
    "df=pd.concat(x,axis=1)\n",
    "df"
   ]
  },
  {
   "cell_type": "code",
   "execution_count": 67,
   "metadata": {},
   "outputs": [
    {
     "name": "stdout",
     "output_type": "stream",
     "text": [
      "Series 1:\n",
      "0    1\n",
      "1    2\n",
      "2    3\n",
      "3    4\n",
      "4    5\n",
      "dtype: object\n",
      "Series 2:\n",
      "0    3\n",
      "1    4\n",
      "2    5\n",
      "3    6\n",
      "4    7\n",
      "dtype: object\n",
      "\n",
      "Items of Series 1 that are not present in Series 2:\n",
      "0    1\n",
      "1    2\n",
      "dtype: object\n"
     ]
    }
   ],
   "source": [
    "#9\n",
    "lst1=list(input(\"Enter list 1 elements:\"))\n",
    "lst2=list(input(\"Enter list 2 elements:\"))\n",
    "\n",
    "s1=pd.Series(lst1)\n",
    "s2=pd.Series(lst2)\n",
    "\n",
    "print(\"Series 1:\")\n",
    "print(s1)\n",
    "print(\"Series 2:\")\n",
    "print(s2)\n",
    "\n",
    "print(\"\\nItems of Series 1 that are not present in Series 2:\")\n",
    "print(s1[~s1.isin(s2)])\n"
   ]
  },
  {
   "cell_type": "code",
   "execution_count": 69,
   "metadata": {},
   "outputs": [
    {
     "name": "stdout",
     "output_type": "stream",
     "text": [
      "Series 1:\n",
      "0    1\n",
      "1    2\n",
      "2    3\n",
      "3    4\n",
      "4    5\n",
      "dtype: object\n",
      "Series 2:\n",
      "0    4\n",
      "1    5\n",
      "2    6\n",
      "3    7\n",
      "4    8\n",
      "dtype: object\n",
      "0    1\n",
      "1    2\n",
      "2    3\n",
      "5    6\n",
      "6    7\n",
      "7    8\n",
      "dtype: object\n"
     ]
    }
   ],
   "source": [
    "#10\n",
    "lst1=list(input(\"Enter list 1 elements:\"))\n",
    "lst2=list(input(\"Enter list 2 elements:\"))\n",
    "\n",
    "s1=pd.Series(lst1)\n",
    "s2=pd.Series(lst2)\n",
    "\n",
    "print(\"Series 1:\")\n",
    "print(s1)\n",
    "print(\"Series 2:\")\n",
    "print(s2)\n",
    "\n",
    "union=pd.Series(np.union1d(s1,s2))\n",
    "intersect=pd.Series(np.intersect1d(s1,s2))\n",
    "\n",
    "n=union[~union.isin(intersect)]\n",
    "print(n)"
   ]
  },
  {
   "cell_type": "code",
   "execution_count": 78,
   "metadata": {},
   "outputs": [
    {
     "name": "stdout",
     "output_type": "stream",
     "text": [
      "Count of Unique values in the series: 5\n"
     ]
    }
   ],
   "source": [
    "#11\n",
    "lst=list(input(\"Enter list elements:\"))\n",
    "s=pd.Series(lst)\n",
    "res=s.nunique()\n",
    "print(\"Count of Unique values in the series:\",res)"
   ]
  },
  {
   "cell_type": "code",
   "execution_count": null,
   "metadata": {},
   "outputs": [],
   "source": [
    "#12\n",
    "import pandas as pd\n",
    "import numpy as np\n",
    "\n",
    "s = pd.Series(np.random.random(20))\n",
    "s_binned = pd.qcut(s, q=[0, 0.10, 0.20, 0.30, 0.40, 0.50, 0.60, 0.70, 0.80, 0.90, 1])\n",
    "print(s_binned.head())\n"
   ]
  },
  {
   "cell_type": "code",
   "execution_count": 80,
   "metadata": {},
   "outputs": [
    {
     "name": "stdout",
     "output_type": "stream",
     "text": [
      "Series 1:\n",
      "0    1\n",
      "1    2\n",
      "2    3\n",
      "3    4\n",
      "dtype: object\n",
      "Series 2:\n",
      "0    5\n",
      "1    6\n",
      "2    7\n",
      "3    8\n",
      "dtype: object\n",
      "Horizontal:\n",
      "   0  1\n",
      "0  1  5\n",
      "1  2  6\n",
      "2  3  7\n",
      "3  4  8\n",
      "Vertical:\n",
      "0    1\n",
      "1    2\n",
      "2    3\n",
      "3    4\n",
      "0    5\n",
      "1    6\n",
      "2    7\n",
      "3    8\n",
      "dtype: object\n"
     ]
    }
   ],
   "source": [
    "#13\n",
    "lst1=list(input(\"Enter list 1 elements:\"))\n",
    "lst2=list(input(\"Enter list 2 elements:\"))\n",
    "\n",
    "s1=pd.Series(lst1)\n",
    "s2=pd.Series(lst2)\n",
    "\n",
    "print(\"Series 1:\")\n",
    "print(s1)\n",
    "print(\"Series 2:\")\n",
    "print(s2)\n",
    "\n",
    "df_horizantal=pd.concat([s1,s2],axis=1)\n",
    "print(\"Horizontal:\")\n",
    "print(df_horizantal)\n",
    "\n",
    "df_vertical=pd.concat([s1,s2],axis=0)\n",
    "print(\"Vertical:\")\n",
    "print(df_vertical)\n"
   ]
  },
  {
   "cell_type": "code",
   "execution_count": 82,
   "metadata": {},
   "outputs": [
    {
     "name": "stdout",
     "output_type": "stream",
     "text": [
      "Original Series:\n",
      "0       siva\n",
      "1    saranya\n",
      "2        sri\n",
      "dtype: object\n",
      "\n",
      "Uppercase Series:\n",
      "0       Siva\n",
      "1    Saranya\n",
      "2        Sri\n",
      "dtype: object\n"
     ]
    }
   ],
   "source": [
    "#14\n",
    "s=pd.Series(['siva','saranya','sri'])\n",
    "print(\"Original Series:\")\n",
    "print(s)\n",
    "ns=s.map(lambda x:x[0].upper()+x[1:])\n",
    "print(\"\\nUppercase Series:\")\n",
    "print(ns)"
   ]
  },
  {
   "cell_type": "code",
   "execution_count": 84,
   "metadata": {},
   "outputs": [
    {
     "name": "stdout",
     "output_type": "stream",
     "text": [
      "Series 1:\n",
      "0    1\n",
      "1    2\n",
      "2    3\n",
      "3    4\n",
      "4    5\n",
      "dtype: int64\n",
      "\n",
      "Difference of differences for consecutive numbers in the given series:\n",
      "0    NaN\n",
      "1    1.0\n",
      "2    1.0\n",
      "3    1.0\n",
      "4    1.0\n",
      "dtype: float64\n"
     ]
    }
   ],
   "source": [
    "#15\n",
    "lst1=[1,2,3,4,5]\n",
    "s1=pd.Series(lst1)\n",
    "\n",
    "print(\"Series 1:\")\n",
    "print(s1)\n",
    "\n",
    "ds=s1.diff()\n",
    "print(\"\\nDifference of differences for consecutive numbers in the given series:\")\n",
    "print(ds)"
   ]
  },
  {
   "cell_type": "code",
   "execution_count": 5,
   "metadata": {},
   "outputs": [
    {
     "name": "stdout",
     "output_type": "stream",
     "text": [
      "Oridinal DataFrame:\n",
      "    0   1   2   3   4   5   6   7   8   9\n",
      "0   9  12  62  51  10  54  17  27  78  57\n",
      "1  81  78  55  64  37  42  63   5  78  15\n",
      "2  83  71  68   2  26  46  93  11  11  47\n",
      "3   5  49  11  68  54  96  40  57  28  41\n",
      "4  20  99  90  72  82   5  91  37  42  16\n",
      "5   1  52  56  33  69   6  64  30  23  72\n",
      "6  24  45  32  62  11  23  84  79  94  20\n",
      "7  19  91   6  27  41  61  92  62  58  24\n",
      "8   9  19  79  27  19  95  49  93  59  83\n",
      "9  18  32   6  43  81  91  57  33  16  38\n",
      "\n",
      "Modified DataFrame:\n",
      "    0   1   2   3   4   5   6   7   8   9\n",
      "0   0  12  62  51  10  54  17  27  78   0\n",
      "1  81   0  55  64  37  42  63   5   0  15\n",
      "2  83  71   0   2  26  46  93   0  11  47\n",
      "3   5  49  11   0  54  96   0  57  28  41\n",
      "4  20  99  90  72   0   0  91  37  42  16\n",
      "5   1  52  56  33   0   0  64  30  23  72\n",
      "6  24  45  32   0  11  23   0  79  94  20\n",
      "7  19  91   0  27  41  61  92   0  58  24\n",
      "8   9   0  79  27  19  95  49  93   0  83\n",
      "9   0  32   6  43  81  91  57  33  16   0\n"
     ]
    }
   ],
   "source": [
    "#16\n",
    "import numpy as np\n",
    "df = pd.DataFrame(np.random.randint(1,100, 100).reshape(10, -1)) \n",
    "print(\"Oridinal DataFrame:\")\n",
    "print(df)\n",
    "np.fill_diagonal(df.values,0)\n",
    "np.fill_diagonal(np.fliplr(df.values),0)\n",
    "print(\"\\nModified DataFrame:\")\n",
    "print(df)\n"
   ]
  },
  {
   "cell_type": "code",
   "execution_count": 94,
   "metadata": {},
   "outputs": [],
   "source": [
    "#17\n",
    "raw_data_1 = { \n",
    "    'subject_id': ['1', '2', '3', '4', '5'], \n",
    "    'first_name': ['Alex', 'Amy', 'Allen', 'Alice', 'Ayoung'], \n",
    "    'last_name': ['Anderson', 'Ackerman', 'Ali', 'Aoni', 'Atiches']} \n",
    "\n",
    "raw_data_2 = { \n",
    "    'subject_id': ['4', '5', '6', '7', '8'], \n",
    "    'first_name': ['Billy', 'Brian', 'Bran', 'Bryce', 'Betty'], \n",
    "    'last_name': ['Bonder', 'Black', 'Balwner', 'Brice', 'Btisan']} \n",
    "\n",
    "raw_data_3 = { \n",
    "    'subject_id': ['1', '2', '3', '4', '5', '7', '8', '9', '10', '11'], \n",
    "    'test_id': [51, 15, 15, 61, 16, 14, 15, 1, 61, 16]} \n",
    "\n",
    "data1=pd.DataFrame(raw_data_1)\n",
    "data2=pd.DataFrame(raw_data_2)\n",
    "data3=pd.DataFrame(raw_data_3)\n",
    "\n"
   ]
  },
  {
   "cell_type": "code",
   "execution_count": 105,
   "metadata": {},
   "outputs": [
    {
     "name": "stdout",
     "output_type": "stream",
     "text": [
      "  subject_id first_name last_name\n",
      "0          1       Alex  Anderson\n",
      "1          2        Amy  Ackerman\n",
      "2          3      Allen       Ali\n",
      "3          4      Alice      Aoni\n",
      "4          5     Ayoung   Atiches\n",
      "0          4      Billy    Bonder\n",
      "1          5      Brian     Black\n",
      "2          6       Bran   Balwner\n",
      "3          7      Bryce     Brice\n",
      "4          8      Betty    Btisan\n"
     ]
    }
   ],
   "source": [
    "#a\n",
    "all_data=pd.concat([data1,data2],axis=0)\n",
    "print(all_data)"
   ]
  },
  {
   "cell_type": "code",
   "execution_count": 107,
   "metadata": {},
   "outputs": [
    {
     "name": "stdout",
     "output_type": "stream",
     "text": [
      "  subject_id first_name last_name subject_id first_name last_name\n",
      "0          1       Alex  Anderson          4      Billy    Bonder\n",
      "1          2        Amy  Ackerman          5      Brian     Black\n",
      "2          3      Allen       Ali          6       Bran   Balwner\n",
      "3          4      Alice      Aoni          7      Bryce     Brice\n",
      "4          5     Ayoung   Atiches          8      Betty    Btisan\n"
     ]
    }
   ],
   "source": [
    "#b\n",
    "all_data_col=pd.concat([data1,data2],axis=1)\n",
    "print(all_data_col)"
   ]
  },
  {
   "cell_type": "code",
   "execution_count": 108,
   "metadata": {},
   "outputs": [
    {
     "name": "stdout",
     "output_type": "stream",
     "text": [
      "   subject_id first_name last_name  test_id\n",
      "0           1       Alex  Anderson     51.0\n",
      "1          10        NaN       NaN     61.0\n",
      "2          11        NaN       NaN     16.0\n",
      "3           2        Amy  Ackerman     15.0\n",
      "4           3      Allen       Ali     15.0\n",
      "5           4      Alice      Aoni     61.0\n",
      "6           4      Billy    Bonder     61.0\n",
      "7           5     Ayoung   Atiches     16.0\n",
      "8           5      Brian     Black     16.0\n",
      "9           6       Bran   Balwner      NaN\n",
      "10          7      Bryce     Brice     14.0\n",
      "11          8      Betty    Btisan     15.0\n",
      "12          9        NaN       NaN      1.0\n"
     ]
    }
   ],
   "source": [
    "#c\n",
    "merge_alldata_data3= pd.merge(all_data,data3,on='subject_id',how='outer')\n",
    "print(merge_alldata_data3)"
   ]
  },
  {
   "cell_type": "code",
   "execution_count": 111,
   "metadata": {},
   "outputs": [
    {
     "name": "stdout",
     "output_type": "stream",
     "text": [
      "  subject_id first_name_x last_name_x first_name_y last_name_y\n",
      "0          4        Alice        Aoni        Billy      Bonder\n",
      "1          5       Ayoung     Atiches        Brian       Black\n"
     ]
    }
   ],
   "source": [
    "#d\n",
    "merge_data1_data2= pd.merge(data1,data2,on='subject_id',how='inner')\n",
    "print(merge_data1_data2)"
   ]
  },
  {
   "cell_type": "code",
   "execution_count": 112,
   "metadata": {},
   "outputs": [
    {
     "name": "stdout",
     "output_type": "stream",
     "text": [
      "  subject_id first_name_x last_name_x first_name_y last_name_y\n",
      "0          1         Alex    Anderson          NaN         NaN\n",
      "1          2          Amy    Ackerman          NaN         NaN\n",
      "2          3        Allen         Ali          NaN         NaN\n",
      "3          4        Alice        Aoni        Billy      Bonder\n",
      "4          5       Ayoung     Atiches        Brian       Black\n",
      "5          6          NaN         NaN         Bran     Balwner\n",
      "6          7          NaN         NaN        Bryce       Brice\n",
      "7          8          NaN         NaN        Betty      Btisan\n"
     ]
    }
   ],
   "source": [
    "#e\n",
    "merge_data1_data2= pd.merge(data1,data2,on='subject_id',how='outer')\n",
    "print(merge_data1_data2)"
   ]
  }
 ],
 "metadata": {
  "kernelspec": {
   "display_name": "Python 3",
   "language": "python",
   "name": "python3"
  },
  "language_info": {
   "codemirror_mode": {
    "name": "ipython",
    "version": 3
   },
   "file_extension": ".py",
   "mimetype": "text/x-python",
   "name": "python",
   "nbconvert_exporter": "python",
   "pygments_lexer": "ipython3",
   "version": "3.12.3"
  }
 },
 "nbformat": 4,
 "nbformat_minor": 2
}
