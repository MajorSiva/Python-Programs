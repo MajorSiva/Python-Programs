{
 "cells": [
  {
   "cell_type": "code",
   "execution_count": null,
   "metadata": {},
   "outputs": [],
   "source": [
    "#1\n",
    "import pandas as pd\n",
    "import numpy as np\n",
    "import datetime as dt\n",
    "import geopy.distance\n",
    "import pyodbc\n",
    "from sqlalchemy import create_engine\n",
    "\n",
    "#Getting csv file and converting the values into datetime fomrat\n",
    "df =pd.read_csv('Q1.csv')\n",
    "df['Start Time']=df['Start Time'].astype('datetime64[ns]')\n",
    "df['End Time']=df['End Time'].astype('datetime64[ns]')\n",
    "\n",
    "#finding the duration and storing it in the Duration column\n",
    "df['Duration']=(df['End Time']-df['Start Time']).dt.total_seconds().astype(int)\n",
    "\n",
    "#checking the weekends and storing the values in is_weekend columns\n",
    "df['is_weekend']=df['Start Time'].dt.day_of_week.isin([5,6]).astype(int)\n",
    "\n",
    "#checking the hour of the day and storing it in the column hour_of_the_day\n",
    "df['hour_of_the_day']=df['Start Time'].dt.hour\n",
    "\n",
    "#finding the distance between start and end coordinates (latitude and longitude) and soring it in the distance column\n",
    "def cal_distance(row):\n",
    "    start=(row['Start Latitude'],row['Start Longitude'])\n",
    "    end=(row['End Latitude'],row['End Longitude'])\n",
    "    return geopy.distance.geodesic(start,end).kilometers\n",
    "df['distance']=df.apply(cal_distance,axis=1)\n",
    "\n",
    "#connecting to sql server and loading the output as sql table\n",
    "server = 'SS-SQL-01'\n",
    "database = 'Intern2024'\n",
    "username = 'B2024_SSelvar1'\n",
    "password = 'Bazinga_02'\n",
    "\n",
    "cnxn = pyodbc.connect('DRIVER={ODBC Driver 17 for SQL Server};SERVER='+server+';DATABASE='+database+';UID='+username+';PWD='+ password)\n",
    "df.to_sql('Final',con= engine, if_exists='replace',index=False)\n",
    "cnxn.close()\n"
   ]
  },
  {
   "cell_type": "code",
   "execution_count": 18,
   "metadata": {},
   "outputs": [
    {
     "data": {
      "text/plain": [
       "age     object\n",
       "name    object\n",
       "dtype: object"
      ]
     },
     "execution_count": 18,
     "metadata": {},
     "output_type": "execute_result"
    }
   ],
   "source": [
    "df.dtypes"
   ]
  },
  {
   "cell_type": "code",
   "execution_count": 30,
   "metadata": {},
   "outputs": [
    {
     "name": "stdout",
     "output_type": "stream",
     "text": [
      "  name age\n",
      "sanjay  23\n",
      "   ram  45\n",
      "   som  34\n"
     ]
    }
   ],
   "source": [
    "#7\n",
    "import pandas as pd\n",
    "\n",
    "data = {\n",
    "    'measure_name': ['name', 'age', 'name', 'age', 'name', 'age'],\n",
    "    'measure_value': ['sanjay', '23', 'ram', '45', 'som', '34']\n",
    "}\n",
    "\n",
    "df = pd.DataFrame(data)\n",
    "\n",
    "names = df[df['measure_name'] == 'name']['measure_value'].reset_index(drop=True)\n",
    "ages = df[df['measure_name'] == 'age']['measure_value'].reset_index(drop=True)\n",
    "\n",
    "result_df = pd.concat([names, ages], axis=1,ignore_index=True)\n",
    "result_df.columns = ['name', 'age']\n",
    "result_df=result_df.to_string(index=False)\n",
    "\n",
    "print(result_df)\n"
   ]
  },
  {
   "cell_type": "code",
   "execution_count": 31,
   "metadata": {},
   "outputs": [
    {
     "name": "stderr",
     "output_type": "stream",
     "text": [
      "C:\\Users\\SivaPrakashSelvaraj\\AppData\\Local\\Temp\\ipykernel_6716\\2863270071.py:14: UserWarning: pandas only supports SQLAlchemy connectable (engine/connection) or database string URI or sqlite3 DBAPI2 connection. Other DBAPI2 objects are not tested. Please consider using SQLAlchemy.\n",
      "  df_Orders= pd.read_sql(query1,cnxn)\n",
      "C:\\Users\\SivaPrakashSelvaraj\\AppData\\Local\\Temp\\ipykernel_6716\\2863270071.py:16: UserWarning: pandas only supports SQLAlchemy connectable (engine/connection) or database string URI or sqlite3 DBAPI2 connection. Other DBAPI2 objects are not tested. Please consider using SQLAlchemy.\n",
      "  df_Order_Details= pd.read_sql(query2,cnxn)\n"
     ]
    },
    {
     "name": "stdout",
     "output_type": "stream",
     "text": [
      "      OrderID CustomerID  EmployeeID  OrderDate RequiredDate ShippedDate  \\\n",
      "0       10248      VINET           5 1996-07-04   1996-08-01  1996-07-16   \n",
      "1       10248      VINET           5 1996-07-04   1996-08-01  1996-07-16   \n",
      "2       10248      VINET           5 1996-07-04   1996-08-01  1996-07-16   \n",
      "3       10249      TOMSP           6 1996-07-05   1996-08-16  1996-07-10   \n",
      "4       10249      TOMSP           6 1996-07-05   1996-08-16  1996-07-10   \n",
      "...       ...        ...         ...        ...          ...         ...   \n",
      "2150    11077      RATTC           1 1998-05-06   1998-06-03         NaT   \n",
      "2151    11077      RATTC           1 1998-05-06   1998-06-03         NaT   \n",
      "2152    11077      RATTC           1 1998-05-06   1998-06-03         NaT   \n",
      "2153    11077      RATTC           1 1998-05-06   1998-06-03         NaT   \n",
      "2154    11077      RATTC           1 1998-05-06   1998-06-03         NaT   \n",
      "\n",
      "      ShipVia  Freight                    ShipName         ShipAddress  \\\n",
      "0           3    32.38   Vins et alcools Chevalier  59 rue de l'Abbaye   \n",
      "1           3    32.38   Vins et alcools Chevalier  59 rue de l'Abbaye   \n",
      "2           3    32.38   Vins et alcools Chevalier  59 rue de l'Abbaye   \n",
      "3           1    11.61          Toms Spezialitäten       Luisenstr. 48   \n",
      "4           1    11.61          Toms Spezialitäten       Luisenstr. 48   \n",
      "...       ...      ...                         ...                 ...   \n",
      "2150        2     8.53  Rattlesnake Canyon Grocery     2817 Milton Dr.   \n",
      "2151        2     8.53  Rattlesnake Canyon Grocery     2817 Milton Dr.   \n",
      "2152        2     8.53  Rattlesnake Canyon Grocery     2817 Milton Dr.   \n",
      "2153        2     8.53  Rattlesnake Canyon Grocery     2817 Milton Dr.   \n",
      "2154        2     8.53  Rattlesnake Canyon Grocery     2817 Milton Dr.   \n",
      "\n",
      "         ShipCity ShipRegion ShipPostalCode ShipCountry  ProductID  UnitPrice  \\\n",
      "0           Reims       None          51100      France         11      14.00   \n",
      "1           Reims       None          51100      France         42       9.80   \n",
      "2           Reims       None          51100      France         72      34.80   \n",
      "3         Münster       None          44087     Germany         14      18.60   \n",
      "4         Münster       None          44087     Germany         51      42.40   \n",
      "...           ...        ...            ...         ...        ...        ...   \n",
      "2150  Albuquerque         NM          87110         USA         64      33.25   \n",
      "2151  Albuquerque         NM          87110         USA         66      17.00   \n",
      "2152  Albuquerque         NM          87110         USA         73      15.00   \n",
      "2153  Albuquerque         NM          87110         USA         75       7.75   \n",
      "2154  Albuquerque         NM          87110         USA         77      13.00   \n",
      "\n",
      "      Quantity  Discount  \n",
      "0           12      0.00  \n",
      "1           10      0.00  \n",
      "2            5      0.00  \n",
      "3            9      0.00  \n",
      "4           40      0.00  \n",
      "...        ...       ...  \n",
      "2150         2      0.03  \n",
      "2151         1      0.00  \n",
      "2152         2      0.01  \n",
      "2153         4      0.00  \n",
      "2154         2      0.00  \n",
      "\n",
      "[2155 rows x 18 columns]\n"
     ]
    }
   ],
   "source": [
    "#3\n",
    "import pandas as pd\n",
    "import pyodbc\n",
    "import sqlalchemy\n",
    "\n",
    "server = 'SS-SQL-01'\n",
    "database = 'Northwind'\n",
    "username = 'B2024_SSelvar1'\n",
    "password = 'Bazinga_02'\n",
    "\n",
    "# Establishing the connection and reading data directly into DataFrame\n",
    "cnxn = pyodbc.connect('DRIVER={ODBC Driver 17 for SQL Server};SERVER='+server+';DATABASE='+database+';UID='+username+';PWD='+ password)\n",
    "query1='SELECT* FROM Orders'\n",
    "df_Orders= pd.read_sql(query1,cnxn)\n",
    "query2='SELECT* FROM Order_details'\n",
    "df_Order_Details= pd.read_sql(query2,cnxn)\n",
    "\n",
    "#final_join= pd.concat([df_Orders,df_Order_Details],ignore_index=True)\n",
    "final_join = pd.merge(df_Orders, df_Order_Details, on=\"OrderID\", how=\"inner\")\n",
    "\n",
    "print(final_join)\n",
    "cnxn.close()"
   ]
  },
  {
   "cell_type": "code",
   "execution_count": null,
   "metadata": {},
   "outputs": [],
   "source": [
    "#4\n",
    "import pandas as pd\n",
    "import numpy as np\n",
    "\n",
    "input_list = [9, 4, 4, 7, 1, 8, 4, 7, 3, 0, 2, 5, 7, 3, 7, 2, 6, 8, 4, 6, 7, 1, 3, 2]\n",
    "sorted_unique_list = sorted(set(input_list))\n",
    "lst = sorted_unique_list.copy()\n",
    "\n",
    "for num in input_list:\n",
    "    if lst.count(num) < input_list.count(num):\n",
    "        lst.append(num)\n",
    "\n",
    "print(\"Sorted List:\",lst)\n",
    "\n",
    "arr= np.array(lst).reshape(6,4)\n",
    "print(\"Converted 6x4 array:\",arr)\n",
    "\n",
    "df=pd.DataFrame(arr,index=['a','b','c','d','e','f'],columns=['A','B','C','D'])\n",
    "print(\"Data Frame with index 'a' to 'f' and column name 'A' to 'F' :\")\n",
    "print(df)"
   ]
  },
  {
   "cell_type": "code",
   "execution_count": null,
   "metadata": {},
   "outputs": [],
   "source": [
    "#5\n",
    "lst=[66,34,76,47,20,86,10,81,75,73,51,28,1,1,9,83,30,47,67,4]\n",
    "arr=np.array(lst).reshape(5,4)\n",
    "df=pd.DataFrame(arr,index=[0,1,2,3,4],columns=['a','b','c','d'])\n",
    "print(\"Original Data Frame:\")\n",
    "print(df)\n",
    "\n",
    "df['a_lag']= df['a'].shift(1)\n",
    "\n",
    "df['d_lead']= df['d'].shift(-1)\n",
    "\n",
    "print(\"Lead and Lag added Data Frames:\")\n",
    "print(df)"
   ]
  },
  {
   "cell_type": "code",
   "execution_count": null,
   "metadata": {},
   "outputs": [],
   "source": [
    "#6\n",
    "import datetime\n",
    "df1= pd.read_csv('student_marks.csv')\n",
    "#df1['DOB']=df1['DOB'].astype('datetime64[ns]')\n",
    "#a\n",
    "def calculate_age(dob):\n",
    "    dob = datetime.datetime.strptime(dob, '%d-%m-%Y')\n",
    "    today = datetime.datetime.today()\n",
    "    return today.year - dob.year - ((today.month, today.day) < (dob.month, dob.day))\n",
    "\n",
    "df1['age'] = df1['DOB'].apply(calculate_age)\n",
    "print(df1[['Name', 'DOB', 'age']])\n",
    "\n",
    "#b\n",
    "def calculate_average(row):\n",
    "    subjects = ['Maths', 'Physics', 'Chemistry', 'English', 'Biology', 'Economics', 'History', 'Civics']\n",
    "    marks = [row[subject] for subject in subjects if pd.notna(row[subject])]\n",
    "    if marks:\n",
    "        return sum(marks) / len(marks)\n",
    "    else:\n",
    "        return 0\n",
    "\n",
    "def assign_grade(average):\n",
    "    if average >= 90:\n",
    "        return 'A'\n",
    "    elif average >= 80:\n",
    "        return 'B'\n",
    "    elif average >= 70:\n",
    "        return 'C'\n",
    "    elif average >= 60:\n",
    "        return 'D'\n",
    "    else:\n",
    "        return 'F'\n",
    "\n",
    "df1['Average'] = df1.apply(calculate_average, axis=1)\n",
    "df1['Grade'] = df1['Average'].apply(assign_grade)\n",
    "print(df1)\n",
    "\n",
    "#c\n",
    "passed_students= df1[df1['Grade']<='D']\n",
    "passed_students.to_csv('passed_students.csv',index=False)\n",
    "print(\"\\nFile Saved Successfully\")"
   ]
  }
 ],
 "metadata": {
  "kernelspec": {
   "display_name": "Python 3",
   "language": "python",
   "name": "python3"
  },
  "language_info": {
   "codemirror_mode": {
    "name": "ipython",
    "version": 3
   },
   "file_extension": ".py",
   "mimetype": "text/x-python",
   "name": "python",
   "nbconvert_exporter": "python",
   "pygments_lexer": "ipython3",
   "version": "3.12.3"
  }
 },
 "nbformat": 4,
 "nbformat_minor": 2
}
