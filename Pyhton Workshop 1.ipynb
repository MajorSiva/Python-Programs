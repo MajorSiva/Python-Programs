{
 "cells": [
  {
   "cell_type": "code",
   "execution_count": 3,
   "metadata": {},
   "outputs": [
    {
     "name": "stdout",
     "output_type": "stream",
     "text": [
      "This is Siva PRakash\n",
      "['This', 'is', 'Siva', 'PRakash']\n",
      "thIs Is siVa prakaSh\n"
     ]
    }
   ],
   "source": [
    "#1 In the given sentence, change the second last letter of each word to uppercase and others as lowercase\n",
    "def split_sentence(sentence):\n",
    "    words=sentence.split()\n",
    "    \n",
    "    def change_words(word):\n",
    "        if len(word)<2:\n",
    "            return word.lower()\n",
    "        change= word[:-2].lower()+word[-2].upper()+word[-1].lower()\n",
    "        return change\n",
    "    tw=[change_words(word)for word in words]\n",
    "    ts=' '.join(tw)\n",
    "    return ts\n",
    "sentence=str(input(\"Enter a sentence:\"))\n",
    "print(sentence)\n",
    "res=split_sentence(sentence)\n",
    "print(res)\n"
   ]
  },
  {
   "cell_type": "code",
   "execution_count": 3,
   "metadata": {},
   "outputs": [
    {
     "name": "stdout",
     "output_type": "stream",
     "text": [
      "String Numbers: 132456\n",
      "Integer list numbers: [1, 3, 2, 4, 5, 6]\n",
      "Average of minimum and maximum numbers: 3\n",
      "Difference of minimum and maximum numbers: 5\n"
     ]
    }
   ],
   "source": [
    "'''\n",
    "2)\tInput the set of numbers as string and find the average and difference between smallest and largest number\n",
    "\tEg: \"1 3 4 2 5\"\n",
    "\tAvg: 3\n",
    "\tDifference: 4\n",
    "'''\n",
    "\n",
    "str_numbers=str(input(\"Enter string numbers:\"))\n",
    "print(\"String Numbers:\",str_numbers)\n",
    "int_numbers=[int(num)for num in str_numbers]\n",
    "print(\"Integer list numbers:\",int_numbers)\n",
    "minimum=min(int_numbers)\n",
    "maximum=max(int_numbers)\n",
    "avg=int((minimum+maximum)/2)\n",
    "print(\"Average of minimum and maximum numbers:\",avg)\n",
    "difference=maximum-minimum\n",
    "print(\"Difference of minimum and maximum numbers:\",difference)"
   ]
  },
  {
   "cell_type": "code",
   "execution_count": 4,
   "metadata": {},
   "outputs": [
    {
     "name": "stdout",
     "output_type": "stream",
     "text": [
      "    *\n",
      "   ***\n",
      "  *****\n",
      " *******\n",
      "*********\n"
     ]
    }
   ],
   "source": [
    "'''\n",
    "3)\tWrite a function to print a triangle of stars. Depth should be passed as an argument to the function.\n",
    "Eg: For a triangle with depth 5\n",
    "            *\n",
    "          * * *\n",
    "        * * * * *\n",
    "      * * * * * * *\n",
    "    * * * * * * * * *\n",
    "'''\n",
    "def pyramid_pattern(n):\n",
    "   for i in range(1, n+1):\n",
    "      for j in range(n - i):\n",
    "         print(' ', end='')\n",
    "      for k in range(2 * i - 1):\n",
    "        print('*', end='')\n",
    "      print()\n",
    "\n",
    "n = 5\n",
    "pyramid_pattern(n)"
   ]
  },
  {
   "cell_type": "code",
   "execution_count": 13,
   "metadata": {},
   "outputs": [
    {
     "name": "stdout",
     "output_type": "stream",
     "text": [
      "The numberology number for 'James Duncan Helpert'is :9\n"
     ]
    }
   ],
   "source": [
    "'''\n",
    "4)\tConsider a numerology where each letter in the alphabet corresponds to a number.\n",
    "\t1 = a, j, s\n",
    "\t2 = b, k, t\n",
    "\t3 = c, l, u\n",
    "\t4 = d, m, v\n",
    "\t5 = e, n, w\n",
    "\t6 = f, o, x\n",
    "\t7 = g, p, y\n",
    "\t8 = h, q, z\n",
    "\t9 = i, r\n",
    "\t\n",
    "Take a name as input. Next, add together all the numbers associated for each letter in the individual's full birth name. Then, the number is reduced until one obtains a single digit.\n",
    "\tJames\n",
    "\t1+1+4+5+1\n",
    "\t= 12\n",
    "\tDuncan\n",
    "\t4+3+5+3+1+5\n",
    "\t= 21\n",
    "\tHelpert\n",
    "\t8+5+3+7+5+9+2\n",
    "\t= 39\n",
    "\tJames Duncan Helpert\n",
    "\t12+21+39\n",
    "\t= 72\n",
    "\t7+2\n",
    "\t= 9\n",
    "\t\n",
    "\tWrite a Python code to achieve the same.\n",
    "\n",
    "'''\n",
    "def letter_to_number(letter):\n",
    "    mapping={\n",
    "        'a':1,'j':1,'s':1,\n",
    "        'b':2,'k':2,'t':2,\n",
    "        'c':3,'l':3,'u':3,\n",
    "        'd':4,'m':4,'v':4,\n",
    "        'e':5,'n':5,'w':5,\n",
    "        'f':6,'o':6,'x':6,\n",
    "        'g':7,'p':7,'y':7,\n",
    "        'h':8,'q':8,'z':8,\n",
    "        'i':9,'r':9\n",
    "    }\n",
    "    return mapping.get(letter.lower(),0)\n",
    "\n",
    "def name_to_number(name):\n",
    "    return sum(letter_to_number(letter)for letter in name if letter.isalpha())\n",
    "\n",
    "def reduce_to_single_digit(number):\n",
    "    while number>9:\n",
    "        number=sum(int(digit)for digit in str(number))\n",
    "    return number\n",
    "\n",
    "def cal_numerology(full_name):\n",
    "    parts=full_name.split()\n",
    "    total_sum=sum(name_to_number(part)for part in parts)\n",
    "    return reduce_to_single_digit(total_sum)\n",
    "\n",
    "full_name=input(\"Enter the full birth name:\")\n",
    "numerology_number=cal_numerology(full_name)\n",
    "print(f\"The numberology number for '{full_name}'is :{numerology_number}\")"
   ]
  },
  {
   "cell_type": "code",
   "execution_count": 15,
   "metadata": {},
   "outputs": [
    {
     "name": "stdout",
     "output_type": "stream",
     "text": [
      "Original string: &he&amp hii&io&amp\n",
      "\n",
      "Replace string: &amphe&amp hii&ampio&amp\n"
     ]
    }
   ],
   "source": [
    "'''5)\tInput String: \"&he&amp hii&io&amp\"\n",
    "  \t #Replace all the '&' with '&amp'. If it's already '&amp', that shouldn't be touched.\n",
    "   \t#Expected Output: \"&amphe&amp hii&ampio&amp\"\n",
    "'''\n",
    "import re\n",
    "\n",
    "def replace(str1):\n",
    "    res=re.sub(r'&(?!amp)','&amp',str1)\n",
    "    return res\n",
    "\n",
    "str1=\"&he&amp hii&io&amp\"\n",
    "print(\"Original string:\",str1)\n",
    "output_str=replace(str1)\n",
    "print(\"\\nReplace string:\",output_str)\n"
   ]
  },
  {
   "cell_type": "code",
   "execution_count": 22,
   "metadata": {},
   "outputs": [
    {
     "name": "stdout",
     "output_type": "stream",
     "text": [
      "Maximum of repeating consecutive character is: a\n"
     ]
    }
   ],
   "source": [
    "'''\n",
    "6)\tFind the Maximum consecutive repeating character in string\n",
    "   \tGiven a string, the task is to find the maximum consecutive repeating character in a string.\n",
    "Note: We do not need to consider the overall count, but the count of repeating that appears in one place.\n",
    "   Examples:\n",
    "   Input : str = \"geeekk\"\n",
    "   Output : e\n",
    "   \n",
    "   Input : str = \"aaaabbcbbb\"\n",
    "   Output : a\n",
    "'''\n",
    "def max_repeating(string):\n",
    "    n = len(string)\n",
    "    count = 0\n",
    "    max_count = 0\n",
    "    result = string[0]\n",
    "\n",
    "    for i in range(n):\n",
    "        if i < n - 1 and string[i] == string[i + 1]:\n",
    "            count += 1\n",
    "        else:\n",
    "            if count > max_count:\n",
    "                max_count = count\n",
    "                result = string[i]\n",
    "            count = 1\n",
    "\n",
    "    return result\n",
    "\n",
    "input_string =input(\"Enter a string eith consecutive characters:\")\n",
    "print(\"Maximum of repeating consecutive character is:\",max_repeating(input_string))\n"
   ]
  },
  {
   "cell_type": "code",
   "execution_count": 24,
   "metadata": {},
   "outputs": [
    {
     "name": "stdout",
     "output_type": "stream",
     "text": [
      "The minimum number of jars required to fill the numbers is: 4\n"
     ]
    }
   ],
   "source": [
    "'''\n",
    "7)\tConsider an array of numbers of length 'N', that needs to be filled in certain number of Jars. \n",
    "Find the minimum number of jars required to fill the numbers following the below conditions.\n",
    "Condition 1: Each jar can contain only 'n' numbers\n",
    "Condition 2: The difference between any two numbers in the jar should not exceed 'd'\n",
    "'''\n",
    "def min_jars_req(numbers,n,d):\n",
    "    sort_numbers=sorted(numbers)\n",
    "    jars=0\n",
    "    i=0\n",
    "    N=len(numbers)\n",
    "\n",
    "    while i<N:\n",
    "        jars+=1\n",
    "        start=sort_numbers[i]\n",
    "        count=1\n",
    "        i+=1\n",
    "\n",
    "        while i<N and count<n and(sort_numbers[i]-start)<=d:\n",
    "            count+=1\n",
    "            i+=1\n",
    "    return jars\n",
    "\n",
    "numbers=[4,8,1,7,3,2,12,10]\n",
    "n=3\n",
    "d=3\n",
    "print(\"The minimum number of jars required to fill the numbers is:\",min_jars_req(numbers,n,d))"
   ]
  }
 ],
 "metadata": {
  "kernelspec": {
   "display_name": "Python 3",
   "language": "python",
   "name": "python3"
  },
  "language_info": {
   "codemirror_mode": {
    "name": "ipython",
    "version": 3
   },
   "file_extension": ".py",
   "mimetype": "text/x-python",
   "name": "python",
   "nbconvert_exporter": "python",
   "pygments_lexer": "ipython3",
   "version": "3.12.3"
  }
 },
 "nbformat": 4,
 "nbformat_minor": 2
}
