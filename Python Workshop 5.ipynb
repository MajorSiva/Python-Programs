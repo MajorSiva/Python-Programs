{
 "cells": [
  {
   "cell_type": "code",
   "execution_count": 6,
   "metadata": {},
   "outputs": [
    {
     "name": "stdout",
     "output_type": "stream",
     "text": [
      "I evah won the emag\n"
     ]
    }
   ],
   "source": [
    "#1\n",
    "def word_reverse(sentence):\n",
    "    words=sentence.split()\n",
    "    for i, word in enumerate(words):\n",
    "        if len(word)>3:\n",
    "            words[i]= word[::-1]\n",
    "    reverse_sen=' '.join(words)\n",
    "    return reverse_sen\n",
    "    \n",
    "sentence=input(\"Enter a sentence:\")\n",
    "res=word_reverse(sentence)\n",
    "print(res)"
   ]
  },
  {
   "cell_type": "code",
   "execution_count": 12,
   "metadata": {},
   "outputs": [
    {
     "name": "stdout",
     "output_type": "stream",
     "text": [
      "Input: '2 2 3 3' \n",
      "Output: 1\n"
     ]
    }
   ],
   "source": [
    "#2\n",
    "def odd_one_out_position(numbers):\n",
    "    numbers = list(map(int, numbers.split()))  # Split the input string into individual numbers\n",
    "    odd_count = sum(num % 2 != 0 for num in numbers)  # Count the odd numbers\n",
    "    \n",
    "    if odd_count == 1:\n",
    "        return numbers.index([num for num in numbers if num % 2 != 0][0]) + 1\n",
    "    else:\n",
    "        return numbers.index([num for num in numbers if num % 2 == 0][0]) + 1\n",
    "\n",
    "# Test case\n",
    "input_str = input(\"Enter numbers separated by spaces:\")\n",
    "print(f\"Input: '{input_str}' \\nOutput: {odd_one_out_position(input_str)}\")\n",
    "\n"
   ]
  },
  {
   "cell_type": "code",
   "execution_count": null,
   "metadata": {},
   "outputs": [],
   "source": [
    "\n",
    "import pyodbc\n",
    "import pandas as pd\n",
    "from datetime import datetime\n",
    "\n",
    "conn = pyodbc.connect('DRIVER={ODBC Driver 17 for SQL Server};SERVER=SS-SQL-01;DATABASE=Northwind;UID=B2024_SSelvar1;PWD=Bazinga_02')\n",
    "\n",
    "products_df = pd.read_sql_query('SELECT ProductID, ProductName, UnitPrice FROM Products', conn)\n",
    "print(products_df)\n",
    "\n",
    "cart_columns = ['PurchaseDatetime', 'ProductID', 'ProductName', 'UnitPrice', 'Quantity', 'TotalPrice']\n",
    "cart_df = pd.DataFrame(columns=cart_columns)\n",
    "\n",
    "def calculate_total_price(row):\n",
    "    return row['UnitPrice'] * row['Quantity']\n",
    "\n",
    "def add_to_cart(product_id, quantity):\n",
    "    global cart_df\n",
    "    product = products_df.loc[products_df['ProductID'] == product_id]\n",
    "    if not product.empty:\n",
    "        product_name = product.iloc[0]['ProductName']\n",
    "        unit_price = product.iloc[0]['UnitPrice']\n",
    "        total_price = unit_price * quantity\n",
    "        now = datetime.now()\n",
    "        new_row = pd.DataFrame({\n",
    "            'PurchaseDatetime': [now],\n",
    "            'ProductID': [product_id],\n",
    "            'ProductName': [product_name],\n",
    "            'UnitPrice': [unit_price],\n",
    "            'Quantity': [quantity],\n",
    "            'TotalPrice': [total_price]\n",
    "        })\n",
    "        cart_df = pd.concat([cart_df,new_row])\n",
    "        print(\"Item added to cart.\")\n",
    "    else:\n",
    "        print(\"Invalid Product ID.\")\n",
    "\n",
    "def display_cart():\n",
    "    global cart_df\n",
    "    print(\"\\nYour Cart:\")\n",
    "    print(cart_df)\n",
    "    total_cost = cart_df['TotalPrice'].sum()\n",
    "    print(\"Total Cost:\", total_cost)\n",
    "\n",
    "while True:\n",
    "    print(\"\\nAvailable Options:\")\n",
    "    print(\"1. Add item to cart\")\n",
    "    print(\"2. Display cart and total cost\")\n",
    "    print(\"3. Exit\")\n",
    "    choice = input(\"Enter your choice: \")\n",
    "\n",
    "    if choice == '1':\n",
    "        product_id = int(input(\"Enter Product ID: \"))\n",
    "        quantity = int(input(\"Enter Quantity: \"))\n",
    "        add_to_cart(product_id, quantity)\n",
    "    elif choice == '2':\n",
    "        display_cart()\n",
    "    elif choice == '3':\n",
    "        print(\"Thank you for shopping with us!\")\n",
    "        break\n",
    "    else:\n",
    "        print(\"Invalid choice. Please try again.\")\n",
    "\n"
   ]
  },
  {
   "cell_type": "code",
   "execution_count": 1,
   "metadata": {},
   "outputs": [
    {
     "name": "stdout",
     "output_type": "stream",
     "text": [
      "Siva is 3 years experienced and 221 days more to complete 4th year\n"
     ]
    }
   ],
   "source": [
    "#4\n",
    "from datetime import datetime, timedelta\n",
    "\n",
    "class Employee:\n",
    "    def __init__(self,name,dob,salary,hire_date):\n",
    "        self.name=name\n",
    "        self.dob=dob\n",
    "        self.salary=salary\n",
    "        self.hire_date=hire_date\n",
    "\n",
    "    def get_experience(self):\n",
    "        n=datetime.today()\n",
    "        exp= n.year-self.hire_date.year-((n.month,n.day)<(self.hire_date.month,self.hire_date.day))\n",
    "        end=datetime(n.year,12,31)\n",
    "        days_left= (end - n).days\n",
    "        print(f\"{self.name} is {exp} years experienced and {days_left} days more to complete {exp+1}th year\")\n",
    "\n",
    "    def __str__(self):\n",
    "        return f\"Employee(name={self.name}, dob={self.dob}, salary={self.salary}, hire_date={self.hire_date})\"\n",
    "\n",
    "e=Employee('Siva',datetime(2002,12,3),50000,datetime(2020,10,28))\n",
    "e.get_experience()"
   ]
  },
  {
   "cell_type": "code",
   "execution_count": 2,
   "metadata": {},
   "outputs": [
    {
     "name": "stdout",
     "output_type": "stream",
     "text": [
      "Username 'Siva_prakash' accepted and saved.\n"
     ]
    }
   ],
   "source": [
    "#5\n",
    "import re\n",
    "\n",
    "def load_usernames(filename):\n",
    "    try:\n",
    "        with open(filename, 'r') as file:\n",
    "            return set(line.strip().lower() for line in file.readlines())\n",
    "    except FileNotFoundError:\n",
    "        return set()\n",
    "\n",
    "def save_usernames(filename, usernames):\n",
    "    with open(filename, 'w') as file:\n",
    "        for username in usernames:\n",
    "            file.write(username + '\\n')\n",
    "\n",
    "def validate_username(username, existing_usernames):\n",
    "    if len(username) > 12:\n",
    "        raise ValueError(\"The username should not exceed 12 characters.\")\n",
    "    if not re.match(\"^[a-zA-Z0-9_]+$\", username):\n",
    "        raise ValueError(\"The username should not contain special characters other than '_'.\")\n",
    "    if username.lower() in existing_usernames:\n",
    "        raise ValueError(\"The username should be unique across users.\")\n",
    "        \n",
    "\n",
    "def main():\n",
    "    filename = 'usernames.txt'\n",
    "    existing_usernames = load_usernames(filename)\n",
    "    \n",
    "    while True:\n",
    "        username = input(\"Enter a username: \").strip()\n",
    "        \n",
    "        try:\n",
    "            validate_username(username, existing_usernames)\n",
    "        except ValueError as e:\n",
    "            print(f\"Error: {e}\")\n",
    "            continue\n",
    "        \n",
    "        existing_usernames.add(username.lower())\n",
    "        save_usernames(filename, existing_usernames)\n",
    "        print(f\"Username '{username}' accepted and saved.\")\n",
    "        break\n",
    "\n",
    "if __name__ == \"__main__\":\n",
    "    main()\n"
   ]
  },
  {
   "cell_type": "code",
   "execution_count": null,
   "metadata": {},
   "outputs": [],
   "source": [
    "#6\n",
    "import pandas as pd\n",
    "import xml.etree.ElementTree as ET\n",
    "\n",
    "df=pd.read_xml('books.xml')\n",
    "print(\"Original Data Frame:\")\n",
    "print(df)\n",
    "\n",
    "def rearrange_name(name):\n",
    "    n=name.split(',')\n",
    "    return f\"{n[1]},{n[0]}\"\n",
    "\n",
    "df['author']=df['author'].apply(rearrange_name)\n",
    "print(\"Data Frame after interchanging last name and first name:\")\n",
    "print(df)\n",
    "\n",
    "df['id']=df['id'].str.replace('^bk','',regex=True)\n",
    "print(\"Data Frame after removing 'bk':\")\n",
    "print(df)"
   ]
  },
  {
   "cell_type": "code",
   "execution_count": 23,
   "metadata": {},
   "outputs": [
    {
     "name": "stdout",
     "output_type": "stream",
     "text": [
      "'43419 hours ago' when checked at 2019-06-10 08:00:00\n"
     ]
    }
   ],
   "source": [
    "#7\n",
    "\n",
    "from datetime import datetime\n",
    "\n",
    "def publish_time_diff(published_time):\n",
    "    current_time=datetime.now()\n",
    "    diff_time= current_time-published_time\n",
    "    hour_diff= int(diff_time.total_seconds()/3600)\n",
    "    return f\"'{hour_diff} hours ago' when checked at {published_time}\"\n",
    "\n",
    "user_input =input(\"Enter a valid Date Time value:\")\n",
    "published_time = datetime.strptime(user_input, \"%B %d, %Y, %H:%M:%S\")\n",
    "print(publish_time_diff(published_time))\n"
   ]
  },
  {
   "cell_type": "code",
   "execution_count": 26,
   "metadata": {},
   "outputs": [
    {
     "name": "stdout",
     "output_type": "stream",
     "text": [
      "1 \n",
      "1 2 \n",
      "1 2 3 \n",
      "1 2 3 4 \n",
      "1 2 3 4 5 \n",
      "1 2 3 4 5 6 \n",
      "1 2 3 4 5 6 7 \n",
      "1 2 3 4 5 6 7 8 \n",
      "1 2 3 4 5 6 7 8 9 \n"
     ]
    }
   ],
   "source": [
    "#8\n",
    "rows = int(input(\"Enter the number of row for the pattern:\"))\n",
    "for i in range(1, rows + 1):\n",
    "    for j in range(1, i + 1):\n",
    "        print(j, end=' ')\n",
    "    print('')"
   ]
  },
  {
   "cell_type": "code",
   "execution_count": 28,
   "metadata": {},
   "outputs": [
    {
     "name": "stdout",
     "output_type": "stream",
     "text": [
      "original String: ABCD1234\n",
      "Alphabets and Numbers separated list: ['ABCD', 1234]\n"
     ]
    }
   ],
   "source": [
    "#9\n",
    "def alpha_numeric(str1):\n",
    "    alpha=''\n",
    "    num=''\n",
    "    for char in str1:\n",
    "        if char.isalpha():\n",
    "            alpha+=char\n",
    "        elif char.isnumeric():\n",
    "            num+=char\n",
    "    return [alpha, int(num)]\n",
    "\n",
    "str1=input(\"Enter an Alpha Numeric string:\")\n",
    "print(\"original String:\",str1)\n",
    "print(\"Alphabets and Numbers separated list:\",alpha_numeric(str1))"
   ]
  },
  {
   "cell_type": "code",
   "execution_count": 31,
   "metadata": {},
   "outputs": [
    {
     "name": "stdout",
     "output_type": "stream",
     "text": [
      "Original List: [4, 6, 2, 8, 2, 2, 5, 7, 8]\n",
      "Expected List with Sublists: [[4], [6], [2, 2, 2], [8, 8], [5], [7]]\n"
     ]
    }
   ],
   "source": [
    "#10\n",
    "def group_items(input_list):\n",
    "    grouped_dict = {}\n",
    "    for i in input_list:\n",
    "        if i in grouped_dict:\n",
    "            grouped_dict[i].append(i)\n",
    "        else:\n",
    "            grouped_dict[i] = [i]\n",
    "    grouped_list = list(grouped_dict.values())\n",
    "    \n",
    "    return grouped_list\n",
    "\n",
    "input_list = [4, 6, 2, 8, 2, 2, 5, 7, 8]\n",
    "output = group_items(input_list)\n",
    "print(\"Original List:\", input_list)\n",
    "print(\"Expected List with Sublists:\", output)\n"
   ]
  }
 ],
 "metadata": {
  "kernelspec": {
   "display_name": "Python 3",
   "language": "python",
   "name": "python3"
  },
  "language_info": {
   "codemirror_mode": {
    "name": "ipython",
    "version": 3
   },
   "file_extension": ".py",
   "mimetype": "text/x-python",
   "name": "python",
   "nbconvert_exporter": "python",
   "pygments_lexer": "ipython3",
   "version": "3.12.3"
  }
 },
 "nbformat": 4,
 "nbformat_minor": 2
}
